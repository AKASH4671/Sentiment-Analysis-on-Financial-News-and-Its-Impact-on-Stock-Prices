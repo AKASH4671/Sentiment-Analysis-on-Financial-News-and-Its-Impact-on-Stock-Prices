{
  "cells": [
    {
      "cell_type": "markdown",
      "metadata": {
        "id": "view-in-github",
        "colab_type": "text"
      },
      "source": [
        "<a href=\"https://colab.research.google.com/github/AKASH4671/Sentiment-Analysis-on-Financial-News-and-Its-Impact-on-Stock-Prices/blob/main/01_1_investing_com_apple_news_batch_genarator_and_scraper.ipynb\" target=\"_parent\"><img src=\"https://colab.research.google.com/assets/colab-badge.svg\" alt=\"Open In Colab\"/></a>"
      ]
    },
    {
      "cell_type": "code",
      "execution_count": null,
      "id": "baa72d11",
      "metadata": {
        "id": "baa72d11",
        "outputId": "4dd890f9-aa3c-46ad-f0db-0b60bf322d35"
      },
      "outputs": [
        {
          "name": "stdout",
          "output_type": "stream",
          "text": [
            " Created batch_1.py\n",
            " Created batch_2.py\n",
            " Created batch_3.py\n",
            " Created batch_4.py\n",
            " Created batch_5.py\n",
            " Created batch_6.py\n",
            " Created batch_7.py\n"
          ]
        }
      ],
      "source": [
        "from datetime import datetime\n",
        "\n",
        "batch_scripts = []\n",
        "base_code_template = '''import undetected_chromedriver as uc\n",
        "from selenium.webdriver.common.by import By\n",
        "from selenium.webdriver.common.keys import Keys\n",
        "from selenium.common.exceptions import NoSuchElementException, TimeoutException\n",
        "import pandas as pd\n",
        "import time\n",
        "\n",
        "options = uc.ChromeOptions()\n",
        "# options.add_argument(\"--headless\")\n",
        "options.add_argument(\"--no-sandbox\")\n",
        "options.add_argument(\"--disable-dev-shm-usage\")\n",
        "\n",
        "articles_data = []\n",
        "\n",
        "try:\n",
        "    driver = uc.Chrome(options=options)\n",
        "    driver.set_page_load_timeout(180)\n",
        "\n",
        "    for page_num in range({start_page}, {end_page}+1):\n",
        "        url = f\"https://www.investing.com/equities/apple-computer-inc-news/{{{{page_num}}}}\"\n",
        "        print(f\" Scraping page {{{{page_num}}}}...\")\n",
        "\n",
        "        try:\n",
        "            driver.get(url)\n",
        "            time.sleep(5)\n",
        "        except TimeoutException:\n",
        "            print(f\" Timeout on page {{{{page_num}}}}, skipping...\")\n",
        "            continue\n",
        "\n",
        "        articles = driver.find_elements(By.CSS_SELECTOR, \"div.block.w-full.sm\\\\\\\\:flex-1\")\n",
        "        print(f\" Found {{{{len(articles)}}}} articles on page {{{{page_num}}}}\")\n",
        "\n",
        "        if len(articles) == 0:\n",
        "            print(\" No more articles. Stopping.\")\n",
        "            break\n",
        "\n",
        "        for article in articles:\n",
        "            try:\n",
        "                title_elem = article.find_element(By.CSS_SELECTOR, \"a[data-test='article-title-link']\")\n",
        "                title = title_elem.text.strip()\n",
        "                link = title_elem.get_attribute(\"href\")\n",
        "\n",
        "                try:\n",
        "                    summary_elem = article.find_element(By.CSS_SELECTOR, \"p[data-test='article-description']\")\n",
        "                    summary = summary_elem.text.strip()\n",
        "                except:\n",
        "                    summary = \"\"\n",
        "\n",
        "                try:\n",
        "                    date_elem = article.find_element(By.CSS_SELECTOR, \"time[data-test='article-publish-date']\")\n",
        "                    date = date_elem.get_attribute(\"datetime\")\n",
        "                except:\n",
        "                    date = \"\"\n",
        "\n",
        "                articles_data.append({{\n",
        "                    \"date\": date,\n",
        "                    \"headline\": title,\n",
        "                    \"summary\": summary,\n",
        "                    \"url\": link,\n",
        "                    \"source\": \"Investing.com\"\n",
        "                }})\n",
        "\n",
        "            except Exception as e:\n",
        "                print(\" Error reading article:\", e)\n",
        "                continue\n",
        "\n",
        "    driver.quit()\n",
        "\n",
        "except Exception as e:\n",
        "    print(\" Critical Error:\", e)\n",
        "    try:\n",
        "        driver.quit()\n",
        "    except:\n",
        "        pass\n",
        "\n",
        "df = pd.DataFrame(articles_data)\n",
        "df.to_csv(\"investing_apple_news_batch_{batch_num}.csv\", index=False)\n",
        "print(f\" Scraped {{{{len(df)}}}} articles and saved to 'investing_apple_news_batch_{batch_num}.csv'\")\n",
        "'''\n",
        "\n",
        "#  Generate 7 scripts for batches\n",
        "for i in range(7):\n",
        "    script_code = base_code_template.format(\n",
        "        start_page=i * 50 + 1,\n",
        "        end_page=(i + 1) * 50,\n",
        "        batch_num=i + 1\n",
        "    )\n",
        "    filename = f\"batch_{i+1}.py\"\n",
        "    with open(filename, \"w\", encoding=\"utf-8\") as f:\n",
        "        f.write(script_code)\n",
        "    print(f\" Created {filename}\")"
      ]
    }
  ],
  "metadata": {
    "kernelspec": {
      "display_name": "venv",
      "language": "python",
      "name": "python3"
    },
    "language_info": {
      "codemirror_mode": {
        "name": "ipython",
        "version": 3
      },
      "file_extension": ".py",
      "mimetype": "text/x-python",
      "name": "python",
      "nbconvert_exporter": "python",
      "pygments_lexer": "ipython3",
      "version": "3.11.4"
    },
    "colab": {
      "provenance": [],
      "include_colab_link": true
    }
  },
  "nbformat": 4,
  "nbformat_minor": 5
}