{
  "nbformat": 4,
  "nbformat_minor": 0,
  "metadata": {
    "colab": {
      "provenance": [],
      "authorship_tag": "ABX9TyMXrXaUAnf2ZA7FVpgGtl2a",
      "include_colab_link": true
    },
    "kernelspec": {
      "name": "python3",
      "display_name": "Python 3"
    },
    "language_info": {
      "name": "python"
    }
  },
  "cells": [
    {
      "cell_type": "markdown",
      "metadata": {
        "id": "view-in-github",
        "colab_type": "text"
      },
      "source": [
        "<a href=\"https://colab.research.google.com/github/AKASH4671/Sentiment-Analysis-on-Financial-News-and-Its-Impact-on-Stock-Prices/blob/main/02_csv_merger.ipynb\" target=\"_parent\"><img src=\"https://colab.research.google.com/assets/colab-badge.svg\" alt=\"Open In Colab\"/></a>"
      ]
    },
    {
      "cell_type": "markdown",
      "source": [
        "**Mount Drive**\n"
      ],
      "metadata": {
        "id": "GfVkatwP5Bju"
      }
    },
    {
      "cell_type": "code",
      "execution_count": null,
      "metadata": {
        "colab": {
          "base_uri": "https://localhost:8080/"
        },
        "id": "hwqDUiUZ25xm",
        "outputId": "1017da6c-ca4e-44cd-a042-5247bc1e9201"
      },
      "outputs": [
        {
          "output_type": "stream",
          "name": "stdout",
          "text": [
            "Mounted at /content/drive\n"
          ]
        }
      ],
      "source": [
        "from google.colab import drive\n",
        "drive.mount('/content/drive')"
      ]
    },
    {
      "cell_type": "markdown",
      "source": [
        "**Libraries**"
      ],
      "metadata": {
        "id": "0z8_hyLY4-d8"
      }
    },
    {
      "cell_type": "code",
      "source": [
        "import pandas as pd\n",
        "import glob\n",
        "import os"
      ],
      "metadata": {
        "id": "Fy3FvhSY3ZaZ"
      },
      "execution_count": null,
      "outputs": []
    },
    {
      "cell_type": "markdown",
      "source": [
        "**Merger**"
      ],
      "metadata": {
        "id": "kj3j-KP65Ifh"
      }
    },
    {
      "cell_type": "code",
      "source": [
        "#  Set path to the Drive data folder\n",
        "data_path = \"/content/drive/MyDrive/Colab Notebooks/Finance Projects/Sentiment-Analysis-on-Financial-News-and-Its-Impact-on-Stock-Prices/data\"\n",
        "\n",
        "#  Get all batch files\n",
        "csv_files = sorted(glob.glob(os.path.join(data_path, \"investing_apple_news_batch_*.csv\")))\n",
        "\n",
        "#  Merge all into one DataFrame\n",
        "merged_df = pd.concat([pd.read_csv(file) for file in csv_files], ignore_index=True)\n",
        "\n",
        "#  Optional: Remove duplicates based on URL\n",
        "merged_df.drop_duplicates(subset=[\"url\"], inplace=True)\n",
        "\n",
        "#  Save the final merged file\n",
        "output_file = os.path.join(data_path, \"investing_com_apple_news.csv\")\n",
        "merged_df.to_csv(output_file, index=False)\n",
        "\n",
        "print(f\" Merged {len(csv_files)} files → Total articles: {len(merged_df)}\")\n",
        "print(f\" Saved to: {output_file}\")\n"
      ],
      "metadata": {
        "colab": {
          "base_uri": "https://localhost:8080/"
        },
        "id": "5c3gZleu3YJc",
        "outputId": "2be5a6b2-c69f-4ede-a0c5-009629a4cd1a"
      },
      "execution_count": null,
      "outputs": [
        {
          "output_type": "stream",
          "name": "stdout",
          "text": [
            " Merged 5 files → Total articles: 1512\n",
            " Saved to: /content/drive/MyDrive/Colab Notebooks/Finance Projects/Sentiment-Analysis-on-Financial-News-and-Its-Impact-on-Stock-Prices/data/investing_com_apple_news.csv\n"
          ]
        }
      ]
    }
  ]
}